{
  "nbformat": 4,
  "nbformat_minor": 0,
  "metadata": {
    "colab": {
      "provenance": [],
      "authorship_tag": "ABX9TyN/LPjsHPA23W0CcSVqJq4l",
      "include_colab_link": true
    },
    "kernelspec": {
      "name": "python3",
      "display_name": "Python 3"
    },
    "language_info": {
      "name": "python"
    }
  },
  "cells": [
    {
      "cell_type": "markdown",
      "metadata": {
        "id": "view-in-github",
        "colab_type": "text"
      },
      "source": [
        "<a href=\"https://colab.research.google.com/github/Esteban-Prince/VDA-CPE-031-CPE21S4/blob/main/Exercise_2.ipynb\" target=\"_parent\"><img src=\"https://colab.research.google.com/assets/colab-badge.svg\" alt=\"Open In Colab\"/></a>"
      ]
    },
    {
      "cell_type": "markdown",
      "source": [
        "# Exercise 2"
      ],
      "metadata": {
        "id": "yBotAkNQ3IrV"
      }
    },
    {
      "cell_type": "markdown",
      "source": [
        "**Example 1**"
      ],
      "metadata": {
        "id": "Va8UW8f7ylb9"
      }
    },
    {
      "cell_type": "code",
      "execution_count": 2,
      "metadata": {
        "colab": {
          "base_uri": "https://localhost:8080/"
        },
        "id": "ljI_T411wSeM",
        "outputId": "3ce17adf-531a-4419-c1db-10b9c945975c"
      },
      "outputs": [
        {
          "output_type": "stream",
          "name": "stdout",
          "text": [
            "  animals height\n",
            "0     Cat     13\n",
            "1     Dog     17\n",
            "2  Rabbit      8\n"
          ]
        }
      ],
      "source": [
        "import pandas\n",
        "\n",
        "mydataset = {\n",
        "    'animals':[\"Cat\",\"Dog\",\"Rabbit\"],\n",
        "    'height':[13,17,8]\n",
        "}\n",
        "\n",
        "myvar = pandas.DataFrame(mydataset)\n",
        "\n",
        "print(myvar)\n",
        "\n"
      ]
    },
    {
      "cell_type": "markdown",
      "source": [
        "\n",
        "**Example 2**"
      ],
      "metadata": {
        "id": "RnWJ-Hhq2hZ0"
      }
    },
    {
      "cell_type": "code",
      "source": [
        "import pandas as pd\n",
        "\n",
        "a = [1, 7, 2]\n",
        "b = [2, 3, 4]\n",
        "\n",
        "myvar = pd.Series(a + b)\n",
        "\n",
        "print(myvar[5])"
      ],
      "metadata": {
        "colab": {
          "base_uri": "https://localhost:8080/"
        },
        "id": "RfBjz9bh2nmT",
        "outputId": "d2b5e809-c159-496c-c926-74e579ecbeb9"
      },
      "execution_count": 10,
      "outputs": [
        {
          "output_type": "stream",
          "name": "stdout",
          "text": [
            "4\n"
          ]
        }
      ]
    },
    {
      "cell_type": "markdown",
      "source": [
        "**Example 3**"
      ],
      "metadata": {
        "id": "by8NDrhu7ydg"
      }
    },
    {
      "cell_type": "code",
      "source": [
        "import pandas as pd\n",
        "\n",
        "data = {\n",
        "  \"age\": [42, 38, 39],\n",
        "  \"weight\": [50, 40, 45]\n",
        "}\n",
        "\n",
        "myvar = pd.DataFrame(data)\n",
        "\n",
        "##print(myvar)\n",
        "print(myvar.loc[[0, 1]])"
      ],
      "metadata": {
        "colab": {
          "base_uri": "https://localhost:8080/"
        },
        "id": "Sn4wy7GO6l0g",
        "outputId": "fe292d56-9946-4e96-ab42-2a0839377f55"
      },
      "execution_count": 20,
      "outputs": [
        {
          "output_type": "stream",
          "name": "stdout",
          "text": [
            "   age  weight\n",
            "0   42      50\n",
            "1   38      40\n"
          ]
        }
      ]
    },
    {
      "cell_type": "markdown",
      "source": [
        "**Example 4**"
      ],
      "metadata": {
        "id": "dS0u1Av2GOCV"
      }
    },
    {
      "cell_type": "code",
      "source": [
        "import pandas as pd\n",
        "\n",
        "s1 = pd.Series([2, 4, 6])\n",
        "s2 = pd.Series([1, 3, 5])\n",
        "s3 = pd.Series([0, 11, 13])\n",
        "\n",
        "dframe = pd.DataFrame([s1, s2, s3])\n",
        "\n",
        "s4 = ([[5, 10, 15]])\n",
        "\n",
        "# Option 2: Append as a new row\n",
        "dframe = dframe._append(s4, ignore_index=True)\n",
        "print(dframe)"
      ],
      "metadata": {
        "colab": {
          "base_uri": "https://localhost:8080/"
        },
        "id": "ZbtS2-A69iVv",
        "outputId": "f151dbba-226f-4f5b-908c-00b23917bf3e"
      },
      "execution_count": 53,
      "outputs": [
        {
          "output_type": "stream",
          "name": "stdout",
          "text": [
            "   0   1   2\n",
            "0  2   4   6\n",
            "1  1   3   5\n",
            "2  0  11  13\n",
            "3  5  10  15\n"
          ]
        }
      ]
    },
    {
      "cell_type": "markdown",
      "source": [
        "# Challenge"
      ],
      "metadata": {
        "id": "ImUnivzqGVId"
      }
    },
    {
      "cell_type": "code",
      "source": [
        "import pandas as pd\n",
        "\n",
        "s1 = pd.Series([2, 4, 6])\n",
        "s2 = pd.Series([1, 3, 5])\n",
        "s3 = pd.Series([0, 11, 13])\n",
        "s4 = pd.Series([5, 10, 15])\n",
        "\n",
        "dframe = pd.DataFrame([s1, s2, s3, s4])\n",
        "\n",
        "dframe = dframe.drop(index=[0, 1, 3])\n",
        "\n",
        "print(dframe)"
      ],
      "metadata": {
        "id": "aQ68ITAG_zLx"
      },
      "execution_count": null,
      "outputs": []
    }
  ]
}