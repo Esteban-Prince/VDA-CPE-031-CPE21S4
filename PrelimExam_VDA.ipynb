{
  "nbformat": 4,
  "nbformat_minor": 0,
  "metadata": {
    "colab": {
      "provenance": [],
      "authorship_tag": "ABX9TyNfCHPqDib/usgWaE38oqYG",
      "include_colab_link": true
    },
    "kernelspec": {
      "name": "python3",
      "display_name": "Python 3"
    },
    "language_info": {
      "name": "python"
    }
  },
  "cells": [
    {
      "cell_type": "markdown",
      "metadata": {
        "id": "view-in-github",
        "colab_type": "text"
      },
      "source": [
        "<a href=\"https://colab.research.google.com/github/Esteban-Prince/VDA-CPE-031-CPE21S4/blob/main/PrelimExam_VDA.ipynb\" target=\"_parent\"><img src=\"https://colab.research.google.com/assets/colab-badge.svg\" alt=\"Open In Colab\"/></a>"
      ]
    },
    {
      "cell_type": "markdown",
      "source": [
        "# Prelim Exam"
      ],
      "metadata": {
        "id": "4dtRG9mp31-u"
      }
    },
    {
      "cell_type": "markdown",
      "source": [
        "Question 11"
      ],
      "metadata": {
        "id": "SiGQDR2VCsm0"
      }
    },
    {
      "cell_type": "code",
      "execution_count": 1,
      "metadata": {
        "colab": {
          "base_uri": "https://localhost:8080/"
        },
        "id": "nadF1w6H3xSY",
        "outputId": "9a8b9da0-fd70-4316-830c-7c38021bff89"
      },
      "outputs": [
        {
          "output_type": "stream",
          "name": "stdout",
          "text": [
            "    x   y   z\n",
            "0  78  84  86\n",
            "1  85  94  97\n",
            "2  96  89  96\n",
            "3  80  83  72\n",
            "4  86  86  83\n"
          ]
        }
      ],
      "source": [
        "import pandas as pd\n",
        "\n",
        "data = {\n",
        "    'x': [78, 85, 96, 80, 86],\n",
        "    'y': [84, 94, 89, 83, 86],\n",
        "    'z': [86, 97, 96, 72, 83]\n",
        "}\n",
        "\n",
        "df = pd.DataFrame(data)\n",
        "\n",
        "print(df)\n"
      ]
    },
    {
      "cell_type": "markdown",
      "source": [
        "Question 12"
      ],
      "metadata": {
        "id": "7_GezagbCuH8"
      }
    },
    {
      "cell_type": "code",
      "source": [
        "import pandas as pd\n",
        "\n",
        "data = {\n",
        "    'col1': [1,4,3,4,5],\n",
        "    'col2': [4,5,6,7,8],\n",
        "    'col3': [7,8,9,0,1]\n",
        "}\n",
        "\n",
        "df = pd.DataFrame(data)\n",
        "\n",
        "print(df)\n",
        "\n",
        "dfnew = df.drop(index=1)\n",
        "\n",
        "print(dfnew)\n"
      ],
      "metadata": {
        "colab": {
          "base_uri": "https://localhost:8080/"
        },
        "id": "KxAngOoYBWtl",
        "outputId": "ee586557-78a4-4c4c-9d54-55f96b04ab37"
      },
      "execution_count": 14,
      "outputs": [
        {
          "output_type": "stream",
          "name": "stdout",
          "text": [
            "   col1  col2  col3\n",
            "0     1     4     7\n",
            "1     4     5     8\n",
            "2     3     6     9\n",
            "3     4     7     0\n",
            "4     5     8     1\n",
            "   col1  col2  col3\n",
            "0     1     4     7\n",
            "2     3     6     9\n",
            "3     4     7     0\n",
            "4     5     8     1\n"
          ]
        }
      ]
    },
    {
      "cell_type": "markdown",
      "source": [
        "Question 13"
      ],
      "metadata": {
        "id": "m0sU42ZwCvsM"
      }
    },
    {
      "cell_type": "code",
      "source": [
        "import pandas as pd\n",
        "df = pd.read_csv('ComputerData.xlsx - Sheet1.csv')\n",
        "\n",
        "df = pd.DataFrame(df)\n",
        "\n",
        "print(df)"
      ],
      "metadata": {
        "colab": {
          "base_uri": "https://localhost:8080/"
        },
        "id": "7qEx9400DRlt",
        "outputId": "5dfcb334-5dfe-4ae7-935a-f171e82b012a"
      },
      "execution_count": 18,
      "outputs": [
        {
          "output_type": "stream",
          "name": "stdout",
          "text": [
            "   Computer ID   Brand        Model    Processor  RAM (GB)  Storage (GB)  \\\n",
            "0            1    Dell       XPS 13     Intel i7        16           512   \n",
            "1            2      HP  Pavilion 15  AMD Ryzen 5         8           256   \n",
            "2            3   Apple  MacBook Pro     Apple M1        16          1024   \n",
            "3            4  Lenovo  ThinkPad X1     Intel i9        32           512   \n",
            "4            5    Asus   ZenBook 14     Intel i5        16           512   \n",
            "\n",
            "      Graphics Card  Price ($)  \n",
            "0     Intel Iris Xe       1200  \n",
            "1        AMD Radeon        800  \n",
            "2  Apple Integrated       2400  \n",
            "3   NVIDIA GTX 1650       1800  \n",
            "4      NVIDIA MX250       1000  \n"
          ]
        }
      ]
    },
    {
      "cell_type": "code",
      "source": [],
      "metadata": {
        "id": "LrWSI8f9D4UD"
      },
      "execution_count": null,
      "outputs": []
    }
  ]
}